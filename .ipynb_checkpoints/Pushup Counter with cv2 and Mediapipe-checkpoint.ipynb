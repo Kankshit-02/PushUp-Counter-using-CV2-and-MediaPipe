{
 "cells": [
  {
   "cell_type": "markdown",
   "metadata": {},
   "source": [
    "# PUSHUPS COUNTER\n",
    "<img src=\"https://media.tenor.com/rDvOzNlvCVcAAAAC/push-up-guy.gif\" width=100px>"
   ]
  },
  {
   "cell_type": "code",
   "execution_count": 1,
   "metadata": {},
   "outputs": [],
   "source": [
    "import cv2\n",
    "import mediapipe as mp\n",
    "import numpy as np\n",
    "\n",
    "mp_drawing = mp.solutions.drawing_utils\n",
    "mp_pose = mp.solutions.pose"
   ]
  },
  {
   "cell_type": "markdown",
   "metadata": {},
   "source": [
    "<img src='https://i.imgur.com/3j8BPdc.png'>"
   ]
  },
  {
   "cell_type": "markdown",
   "metadata": {},
   "source": [
    "### A Valid Pushup\n",
    "\n",
    "up: angle made at \n",
    "- right-elbow(14) >160 \n",
    "- right-shoulder(12) >45\n",
    "\n",
    "down: angle made at\n",
    "- right-elbow(14) < 40\n",
    "- right-shoulder(12) <20\n",
    "\n",
    "\n",
    "required landmarks\n",
    "right elbow - 14 <br>\n",
    "right shoulder -12 <br>\n",
    "right wrist - 16 <br>\n",
    "right hip - 24 <br>"
   ]
  },
  {
   "cell_type": "code",
   "execution_count": 18,
   "metadata": {},
   "outputs": [
    {
     "name": "stdout",
     "output_type": "stream",
     "text": [
      "x: 0.2355717420578003\n",
      "y: 1.1603567600250244\n",
      "z: -0.18866808712482452\n",
      "visibility: 0.7296201586723328\n",
      " x: 0.347148597240448\n",
      "y: 0.8000877499580383\n",
      "z: -0.2989210784435272\n",
      "visibility: 0.9974110126495361\n",
      " x: 0.21931591629981995\n",
      "y: 1.582474946975708\n",
      "z: -0.6821944117546082\n",
      "visibility: 0.5101230144500732\n",
      " x: 0.4359669089317322\n",
      "y: 1.5811411142349243\n",
      "z: 0.06800459325313568\n",
      "visibility: 0.0061468761414289474\n",
      "\n"
     ]
    }
   ],
   "source": [
    "print(landmarks[14],landmarks[12],landmarks[16],landmarks[24])\n"
   ]
  },
  {
   "cell_type": "code",
   "execution_count": 19,
   "metadata": {},
   "outputs": [],
   "source": [
    "def calculate_angle(a,b,c):\n",
    "    a = np.array(a) # First\n",
    "    b = np.array(b) # Mid\n",
    "    c = np.array(c) # End\n",
    "    \n",
    "    radians = np.arctan2(c[1]-b[1], c[0]-b[0]) - np.arctan2(a[1]-b[1], a[0]-b[0])\n",
    "    angle = np.abs(radians*180.0/np.pi)\n",
    "    \n",
    "    if angle >180.0:\n",
    "        angle = 360-angle\n",
    "        \n",
    "    return angle "
   ]
  },
  {
   "cell_type": "code",
   "execution_count": 22,
   "metadata": {},
   "outputs": [],
   "source": [
    "elbow_coor = [landmarks[14].x,landmarks[14].y]\n",
    "shoulder_coor = [landmarks[12].x,landmarks[12].y]\n",
    "wrist_coor = [landmarks[16].x,landmarks[16].y]\n",
    "hip_coor = [landmarks[24].x,landmarks[24].y]"
   ]
  },
  {
   "cell_type": "code",
   "execution_count": 28,
   "metadata": {},
   "outputs": [
    {
     "data": {
      "text/plain": [
       "164.99740104493475"
      ]
     },
     "execution_count": 28,
     "metadata": {},
     "output_type": "execute_result"
    }
   ],
   "source": [
    "shoulder_angle = calculate_angle(elbow_coor,shoulder_coor,hip_coor)\n",
    "elbow_angle = calculate_angle(wrist_coor,elbow_coor,shoulder_coor)\n",
    "elbow_angle"
   ]
  },
  {
   "cell_type": "code",
   "execution_count": 32,
   "metadata": {},
   "outputs": [
    {
     "name": "stdout",
     "output_type": "stream",
     "text": [
      "0 down\n",
      "1 up\n",
      "1 down\n",
      "2 up\n",
      "2 down\n",
      "3 up\n",
      "3 down\n",
      "4 up\n",
      "4 down\n",
      "5 up\n",
      "5 down\n",
      "6 up\n",
      "6 down\n",
      "7 up\n",
      "7 down\n",
      "8 up\n",
      "8 down\n",
      "9 up\n",
      "9 down\n",
      "10 up\n",
      "10 down\n",
      "11 up\n",
      "11 down\n",
      "12 up\n",
      "12 down\n",
      "13 up\n",
      "13 down\n",
      "14 up\n",
      "14 down\n",
      "15 up\n"
     ]
    }
   ],
   "source": [
    "cap = cv2.VideoCapture(0)\n",
    "\n",
    "with mp_pose.Pose(min_detection_confidence=0.5,min_tracking_confidence=0.5) as pose:\n",
    "    count=0\n",
    "    position= \"up\"\n",
    "    while cap.isOpened():\n",
    "        ret,frame=cap.read()\n",
    "        #recoloring to RGB\n",
    "        image = cv2.cvtColor(frame,cv2.COLOR_BGR2RGB)\n",
    "        image.flags.writeable = False\n",
    "        \n",
    "        #make detection\n",
    "        results = pose.process(image)\n",
    "        \n",
    "        #back to BGR\n",
    "        image.flags.writeable = True\n",
    "        image = cv2.cvtColor(image, cv2.COLOR_RGB2BGR)\n",
    "        \n",
    "        try:\n",
    "            landmarks = results.pose_landmarks.landmark\n",
    "            \n",
    "            elbow_coor = [landmarks[14].x,landmarks[14].y]\n",
    "            shoulder_coor = [landmarks[12].x,landmarks[12].y]\n",
    "            wrist_coor = [landmarks[16].x,landmarks[16].y]\n",
    "            hip_coor = [landmarks[24].x,landmarks[24].y]\n",
    "            \n",
    "            shoulder_angle = calculate_angle(elbow_coor,shoulder_coor,hip_coor)\n",
    "            elbow_angle = calculate_angle(wrist_coor,elbow_coor,shoulder_coor)\n",
    "            \n",
    "            \"\"\"up: angle made at\n",
    "                right-elbow(14) >160\n",
    "                right-shoulder(12) >45\n",
    "                \n",
    "                down: angle made at\n",
    "                right-elbow(14) < 40\n",
    "                right-shoulder(12) <20 \"\"\"\n",
    "            \n",
    "            if (position==\"up\" and elbow_angle<40 and shoulder_angle<20):\n",
    "                position=\"down\"\n",
    "                print(count , position)\n",
    "                \n",
    "            if(position==\"down\" and elbow_angle>160 and shoulder_angle>45):\n",
    "                position=\"up\"\n",
    "                count+=1\n",
    "                print(count , position)\n",
    "            \n",
    "        except:\n",
    "            \n",
    "            pass\n",
    "        # render detections\n",
    "        mp_drawing.draw_landmarks(image, results.pose_landmarks , mp_pose.POSE_CONNECTIONS)\n",
    "        \n",
    "        cv2.imshow(\"My capture again \",image)\n",
    "        \n",
    "        if cv2.waitKey(10) & 0xFF == ord('x'):\n",
    "            break\n",
    "            \n",
    "    cap.release()\n",
    "    cv2.destroyAllWindows()"
   ]
  },
  {
   "cell_type": "code",
   "execution_count": null,
   "metadata": {},
   "outputs": [],
   "source": []
  }
 ],
 "metadata": {
  "kernelspec": {
   "display_name": "Python 3",
   "language": "python",
   "name": "python3"
  },
  "language_info": {
   "codemirror_mode": {
    "name": "ipython",
    "version": 3
   },
   "file_extension": ".py",
   "mimetype": "text/x-python",
   "name": "python",
   "nbconvert_exporter": "python",
   "pygments_lexer": "ipython3",
   "version": "3.8.3"
  }
 },
 "nbformat": 4,
 "nbformat_minor": 4
}
