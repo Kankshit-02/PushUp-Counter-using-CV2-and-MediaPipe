{
 "cells": [
  {
   "cell_type": "markdown",
   "metadata": {},
   "source": [
    "# PUSHUPS COUNTER\n",
    "<img src=\"https://media.tenor.com/rDvOzNlvCVcAAAAC/push-up-guy.gif\" width=100px>"
   ]
  },
  {
   "cell_type": "code",
   "execution_count": 3,
   "metadata": {},
   "outputs": [],
   "source": [
    "import cv2\n",
    "import mediapipe as mp\n",
    "import numpy as np\n",
    "\n",
    "mp_drawing = mp.solutions.drawing_utils\n",
    "mp_pose = mp.solutions.pose"
   ]
  },
  {
   "cell_type": "markdown",
   "metadata": {},
   "source": [
    "<img src='https://i.imgur.com/3j8BPdc.png'>"
   ]
  },
  {
   "cell_type": "markdown",
   "metadata": {},
   "source": [
    "### A Valid Pushup\n",
    "\n",
    "up: angle made at \n",
    "- right-elbow(14) >160 \n",
    "- right-shoulder(12) >45\n",
    "\n",
    "down: angle made at\n",
    "- right-elbow(14) < 40\n",
    "- right-shoulder(12) <20\n",
    "\n",
    "\n",
    "required landmarks\n",
    "right elbow - 14 <br>\n",
    "right shoulder -12 <br>\n",
    "right wrist - 16 <br>\n",
    "right hip - 24 <br>"
   ]
  },
  {
   "cell_type": "code",
   "execution_count": 5,
   "metadata": {},
   "outputs": [],
   "source": [
    "\n",
    "cap = cv2.VideoCapture(0)\n",
    "\n",
    "with mp_pose.Pose(min_detection_confidence=0.5,min_tracking_confidence=0.5) as pose:\n",
    "    count=0\n",
    "    position= \"up\"                                \n",
    "    while cap.isOpened():\n",
    "        ret,frame=cap.read()\n",
    "        #recoloring to RGB\n",
    "        image = cv2.cvtColor(frame,cv2.COLOR_BGR2RGB)\n",
    "        image.flags.writeable = False\n",
    "        \n",
    "        #make detection\n",
    "        results = pose.process(image)\n",
    "        \n",
    "        #back to BGR\n",
    "        image.flags.writeable = True\n",
    "        image = cv2.cvtColor(image, cv2.COLOR_RGB2BGR)\n",
    "        \n",
    "        try:\n",
    "            landmarks = results.pose_landmarks.landmark    #\n",
    "            \n",
    "        except:\n",
    "            \n",
    "            pass\n",
    "        # render detections\n",
    "        mp_drawing.draw_landmarks(image, results.pose_landmarks , mp_pose.POSE_CONNECTIONS)\n",
    "        \n",
    "        cv2.imshow(\"My capture again \",image)\n",
    "        \n",
    "        if cv2.waitKey(10) & 0xFF == ord('x'):\n",
    "            break\n",
    "            \n",
    "    cap.release()\n",
    "    cv2.destroyAllWindows()"
   ]
  },
  {
   "cell_type": "code",
   "execution_count": 6,
   "metadata": {},
   "outputs": [],
   "source": [
    "def calculate_angle(a,b,c):\n",
    "    a = np.array(a) # First\n",
    "    b = np.array(b) # Mid\n",
    "    c = np.array(c) # End\n",
    "    \n",
    "    radians = np.arctan2(c[1]-b[1], c[0]-b[0]) - np.arctan2(a[1]-b[1], a[0]-b[0])\n",
    "    angle = np.abs(radians*180.0/np.pi)\n",
    "    \n",
    "    if angle >180.0:\n",
    "        angle = 360-angle\n",
    "        \n",
    "    return angle "
   ]
  },
  {
   "cell_type": "code",
   "execution_count": 7,
   "metadata": {},
   "outputs": [],
   "source": [
    "elbow_coor = [landmarks[14].x,landmarks[14].y]\n",
    "shoulder_coor = [landmarks[12].x,landmarks[12].y]\n",
    "wrist_coor = [landmarks[16].x,landmarks[16].y]\n",
    "hip_coor = [landmarks[24].x,landmarks[24].y]"
   ]
  },
  {
   "cell_type": "code",
   "execution_count": 8,
   "metadata": {},
   "outputs": [
    {
     "data": {
      "text/plain": [
       "69.49324560990219"
      ]
     },
     "execution_count": 8,
     "metadata": {},
     "output_type": "execute_result"
    }
   ],
   "source": [
    "shoulder_angle = calculate_angle(elbow_coor,shoulder_coor,hip_coor)\n",
    "elbow_angle = calculate_angle(wrist_coor,elbow_coor,shoulder_coor)\n",
    "elbow_angle"
   ]
  },
  {
   "cell_type": "code",
   "execution_count": 18,
   "metadata": {},
   "outputs": [
    {
     "name": "stdout",
     "output_type": "stream",
     "text": [
      "0 down\n",
      "1 up 1 down\n",
      "2 up 2 down\n",
      "3 up 3 down\n",
      "4 up 4 down\n",
      "5 up 5 down\n",
      "6 up 6 down\n"
     ]
    }
   ],
   "source": [
    "cap = cv2.VideoCapture(0)\n",
    "\n",
    "with mp_pose.Pose(min_detection_confidence=0.5,min_tracking_confidence=0.5) as pose:\n",
    "    count=0\n",
    "    position= \"up\"\n",
    "    while cap.isOpened():\n",
    "        ret,frame=cap.read()\n",
    "        #recoloring to RGB\n",
    "        image = cv2.cvtColor(frame,cv2.COLOR_BGR2RGB)\n",
    "        image.flags.writeable = False\n",
    "        \n",
    "        #make detection\n",
    "        results = pose.process(image)\n",
    "        \n",
    "        #back to BGR\n",
    "        image.flags.writeable = True\n",
    "        image = cv2.cvtColor(image, cv2.COLOR_RGB2BGR)\n",
    "        \n",
    "        try:\n",
    "            landmarks = results.pose_landmarks.landmark\n",
    "            \n",
    "            elbow_coor = [landmarks[14].x,landmarks[14].y]\n",
    "            shoulder_coor = [landmarks[12].x,landmarks[12].y]\n",
    "            wrist_coor = [landmarks[16].x,landmarks[16].y]\n",
    "            hip_coor = [landmarks[24].x,landmarks[24].y]\n",
    "            \n",
    "            shoulder_angle = calculate_angle(elbow_coor,shoulder_coor,hip_coor)\n",
    "            elbow_angle = calculate_angle(wrist_coor,elbow_coor,shoulder_coor)\n",
    "            \n",
    "            \"\"\"up: angle made at\n",
    "                right-elbow(14) >160\n",
    "                right-shoulder(12) >45\n",
    "                \n",
    "                down: angle made at\n",
    "                right-elbow(14) < 40\n",
    "                right-shoulder(12) <20 \"\"\"\n",
    "            \n",
    "            if (position==\"up\" and elbow_angle<40 and shoulder_angle<20):\n",
    "                position=\"down\"\n",
    "                print(count , position)\n",
    "                \n",
    "            if(position==\"down\" and elbow_angle>160 and shoulder_angle>45):\n",
    "                position=\"up\"\n",
    "                count+=1\n",
    "                print(count , position,end =\" \")\n",
    "            \n",
    "        except:\n",
    "            \n",
    "            pass\n",
    "        # render detections\n",
    "        mp_drawing.draw_landmarks(image, results.pose_landmarks , mp_pose.POSE_CONNECTIONS)\n",
    "        \n",
    "        cv2.imshow(\"My capture again \",image)\n",
    "        \n",
    "        if cv2.waitKey(10) & 0xFF == ord('x'):\n",
    "            break\n",
    "            \n",
    "    cap.release()\n",
    "    cv2.destroyAllWindows()\n",
    "    "
   ]
  },
  {
   "cell_type": "code",
   "execution_count": null,
   "metadata": {},
   "outputs": [],
   "source": []
  }
 ],
 "metadata": {
  "kernelspec": {
   "display_name": "Python 3",
   "language": "python",
   "name": "python3"
  },
  "language_info": {
   "codemirror_mode": {
    "name": "ipython",
    "version": 3
   },
   "file_extension": ".py",
   "mimetype": "text/x-python",
   "name": "python",
   "nbconvert_exporter": "python",
   "pygments_lexer": "ipython3",
   "version": "3.8.3"
  }
 },
 "nbformat": 4,
 "nbformat_minor": 4
}
